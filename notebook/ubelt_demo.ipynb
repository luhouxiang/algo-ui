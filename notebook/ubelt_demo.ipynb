{
 "cells": [
  {
   "cell_type": "code",
   "id": "initial_id",
   "metadata": {
    "collapsed": true,
    "ExecuteTime": {
     "end_time": "2024-05-26T14:18:05.303697Z",
     "start_time": "2024-05-26T14:18:05.296565Z"
    }
   },
   "source": [
    "import ubelt as ub\n",
    "ub.Path('./').ensuredir()"
   ],
   "outputs": [
    {
     "data": {
      "text/plain": [
       "Path('.')"
      ]
     },
     "execution_count": 2,
     "metadata": {},
     "output_type": "execute_result"
    }
   ],
   "execution_count": 2
  },
  {
   "metadata": {
    "ExecuteTime": {
     "end_time": "2024-05-26T14:19:14.269194Z",
     "start_time": "2024-05-26T14:19:14.265102Z"
    }
   },
   "cell_type": "code",
   "source": "ub.Path.cwd()",
   "id": "2ba7d51634be4db5",
   "outputs": [
    {
     "data": {
      "text/plain": [
       "Path('E:/work/py/kline-chart/notebook')"
      ]
     },
     "execution_count": 3,
     "metadata": {},
     "output_type": "execute_result"
    }
   ],
   "execution_count": 3
  }
 ],
 "metadata": {
  "kernelspec": {
   "display_name": "Python 3",
   "language": "python",
   "name": "python3"
  },
  "language_info": {
   "codemirror_mode": {
    "name": "ipython",
    "version": 2
   },
   "file_extension": ".py",
   "mimetype": "text/x-python",
   "name": "python",
   "nbconvert_exporter": "python",
   "pygments_lexer": "ipython2",
   "version": "2.7.6"
  }
 },
 "nbformat": 4,
 "nbformat_minor": 5
}
