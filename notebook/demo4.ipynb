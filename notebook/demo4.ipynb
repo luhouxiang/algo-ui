{
 "cells": [
  {
   "cell_type": "code",
   "id": "initial_id",
   "metadata": {
    "collapsed": true,
    "ExecuteTime": {
     "end_time": "2025-03-01T03:46:13.502031Z",
     "start_time": "2025-03-01T03:46:13.197939Z"
    }
   },
   "source": [
    "import akshare as ak\n",
    "import pandas as pd\n",
    "\n",
    "# 获取不锈钢 2505 合约最近 3 天的 5 分钟数据\n",
    "df = ak.fu(symbol=\"stainless_2505\", period=\"5\", count=3)\n",
    "print(df)"
   ],
   "outputs": [
    {
     "ename": "AttributeError",
     "evalue": "module 'akshare.futures' has no attribute 'get_qhkc_minute'",
     "output_type": "error",
     "traceback": [
      "\u001B[1;31m---------------------------------------------------------------------------\u001B[0m",
      "\u001B[1;31mAttributeError\u001B[0m                            Traceback (most recent call last)",
      "Cell \u001B[1;32mIn[2], line 5\u001B[0m\n\u001B[0;32m      2\u001B[0m \u001B[38;5;28;01mimport\u001B[39;00m \u001B[38;5;21;01mpandas\u001B[39;00m \u001B[38;5;28;01mas\u001B[39;00m \u001B[38;5;21;01mpd\u001B[39;00m\n\u001B[0;32m      4\u001B[0m \u001B[38;5;66;03m# 获取不锈钢 2505 合约最近 3 天的 5 分钟数据\u001B[39;00m\n\u001B[1;32m----> 5\u001B[0m df \u001B[38;5;241m=\u001B[39m \u001B[43mak\u001B[49m\u001B[38;5;241;43m.\u001B[39;49m\u001B[43mfutures\u001B[49m\u001B[38;5;241;43m.\u001B[39;49m\u001B[43mget_qhkc_minute\u001B[49m(symbol\u001B[38;5;241m=\u001B[39m\u001B[38;5;124m\"\u001B[39m\u001B[38;5;124mstainless_2505\u001B[39m\u001B[38;5;124m\"\u001B[39m, period\u001B[38;5;241m=\u001B[39m\u001B[38;5;124m\"\u001B[39m\u001B[38;5;124m5\u001B[39m\u001B[38;5;124m\"\u001B[39m, count\u001B[38;5;241m=\u001B[39m\u001B[38;5;241m3\u001B[39m)\n\u001B[0;32m      6\u001B[0m \u001B[38;5;28mprint\u001B[39m(df)\n",
      "\u001B[1;31mAttributeError\u001B[0m: module 'akshare.futures' has no attribute 'get_qhkc_minute'"
     ]
    }
   ],
   "execution_count": 2
  },
  {
   "metadata": {},
   "cell_type": "code",
   "outputs": [],
   "execution_count": null,
   "source": "",
   "id": "c1fbfe78bb82ba52"
  }
 ],
 "metadata": {
  "kernelspec": {
   "display_name": "Python 3",
   "language": "python",
   "name": "python3"
  },
  "language_info": {
   "codemirror_mode": {
    "name": "ipython",
    "version": 2
   },
   "file_extension": ".py",
   "mimetype": "text/x-python",
   "name": "python",
   "nbconvert_exporter": "python",
   "pygments_lexer": "ipython2",
   "version": "2.7.6"
  }
 },
 "nbformat": 4,
 "nbformat_minor": 5
}
