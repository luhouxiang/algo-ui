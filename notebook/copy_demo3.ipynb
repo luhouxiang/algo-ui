{
 "cells": [
  {
   "cell_type": "code",
   "id": "initial_id",
   "metadata": {
    "collapsed": true,
    "ExecuteTime": {
     "end_time": "2024-05-23T14:47:25.645915Z",
     "start_time": "2024-05-23T14:47:25.643374Z"
    }
   },
   "source": "# 理解深浅拷贝",
   "execution_count": 1,
   "outputs": []
  },
  {
   "metadata": {
    "ExecuteTime": {
     "end_time": "2024-05-23T14:44:04.257960Z",
     "start_time": "2024-05-23T14:44:04.252607Z"
    }
   },
   "cell_type": "code",
   "source": [
    "import copy\n",
    "from model.kline import KLine\n",
    "\n",
    "kline1 = KLine(time=1620000000, open=10, high=20, low=5, close=15, volume=100, symbol=\"AAPL\")\n",
    "kline_copy = copy.copy(kline1)\n",
    "\n",
    "print(kline1)\n",
    "print(kline_copy)\n",
    "print(kline1 is kline_copy)  # False, 因为是不同的对象\n",
    "print(kline1.symbol is kline_copy.symbol)  # True, 因为 symbol 是不可变字符串，浅拷贝引用相同的对象\n",
    "print(kline1.low is kline_copy.low)"
   ],
   "id": "2e0c95049f4d9264",
   "execution_count": 2,
   "outputs": []
  }
 ],
 "metadata": {
  "kernelspec": {
   "display_name": "Python 3",
   "language": "python",
   "name": "python3"
  },
  "language_info": {
   "codemirror_mode": {
    "name": "ipython",
    "version": 2
   },
   "file_extension": ".py",
   "mimetype": "text/x-python",
   "name": "python",
   "nbconvert_exporter": "python",
   "pygments_lexer": "ipython2",
   "version": "2.7.6"
  }
 },
 "nbformat": 4,
 "nbformat_minor": 5
}
