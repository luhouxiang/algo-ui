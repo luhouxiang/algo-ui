{
 "cells": [
  {
   "cell_type": "code",
   "execution_count": 2,
   "metadata": {},
   "source": [
    "print(\"avc\")"
   ],
   "outputs": []
  },
  {
   "cell_type": "code",
   "execution_count": 6,
   "metadata": {},
   "source": [
    "import yaml\n",
    "with open(\"../etc/config.yaml\", 'r', encoding='utf-8') as f:\n",
    "    conf = yaml.safe_load(f)\n",
    "\n",
    "conf"
   ],
   "outputs": []
  },
  {
   "cell_type": "code",
   "execution_count": 7,
   "metadata": {},
   "source": [
    "import os\n",
    "from typing import List\n",
    "def read_file(file_name) -> List[str]:\n",
    "    \"\"\"\n",
    "    读取文本文件，返回list[str]\n",
    "    \"\"\"\n",
    "    lines = []\n",
    "    if not os.path.exists(file_name):\n",
    "        return lines\n",
    "    with open(file_name, 'r') as f:\n",
    "        f.readline()\n",
    "        while line := f.readline():\n",
    "            # print(line[:-1])\n",
    "            lines.append(line[:-1])\n",
    "    return lines\n",
    "\n",
    "data1 = read_file(\"../data/ochl.txt\")\n",
    "data2 = read_file(\"../data/volume.txt\")\n",
    "print(data)"
   ],
   "outputs": []
  },
  {
   "cell_type": "code",
   "source": [],
   "metadata": {
    "collapsed": false
   },
   "execution_count": null,
   "outputs": []
  },
  {
   "cell_type": "code",
   "source": [
    "import numpy as np\n",
    "rates_total = 10\n",
    "ZigZagBuffer = np.zeros(rates_total)\n",
    "print(ZigZagBuffer)"
   ],
   "metadata": {
    "collapsed": false,
    "ExecuteTime": {
     "end_time": "2024-04-06T02:51:32.505678Z",
     "start_time": "2024-04-06T02:51:12.900099Z"
    }
   },
   "execution_count": 5,
   "outputs": []
  },
  {
   "metadata": {
    "ExecuteTime": {
     "end_time": "2024-08-17T15:14:43.070958Z",
     "start_time": "2024-08-17T15:14:43.064289Z"
    }
   },
   "cell_type": "code",
   "source": [
    "from datetime import date\n",
    "date.today().strftime(\"%Y-%m-%d\")"
   ],
   "execution_count": 1,
   "outputs": []
  }
 ],
 "metadata": {
  "kernelspec": {
   "display_name": "pydev3.12",
   "language": "python",
   "name": "python3"
  },
  "language_info": {
   "codemirror_mode": {
    "name": "ipython",
    "version": 3
   },
   "file_extension": ".py",
   "mimetype": "text/x-python",
   "name": "python",
   "nbconvert_exporter": "python",
   "pygments_lexer": "ipython3",
   "version": "3.12.0"
  }
 },
 "nbformat": 4,
 "nbformat_minor": 2
}
